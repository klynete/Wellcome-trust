{
 "cells": [
  {
   "cell_type": "markdown",
   "id": "edb13475",
   "metadata": {},
   "source": [
    "# Trust in the World Analysis"
   ]
  },
  {
   "cell_type": "markdown",
   "id": "da9c55a2",
   "metadata": {},
   "source": [
    "## Overview\n",
    "\n",
    "Trust in institutions and individuals plays a crucial role in shaping societal outcomes, from economic performance to healthcare outcomes. This research aims to understand the factors that influence trust, and how trust can be improved in order to promote positive change within communities. The results of this research have implications for policymakers, business leaders, and individuals looking to build stronger relationships and more effective systems.\n",
    "Trust is a fundamental component of human interaction, and plays a critical role in shaping our relationships, communities, and societies. Research on trust allows us to understand how trust is built, maintained, and broken, as well as the consequences of trust and mistrust. This research is essential for developing interventions to improve trust in individuals and institutions, and ultimately leads to a more cohesive and functional society.\n",
    "\n",
    "The key idea of this research is to understand the factors that influence trust in different institutions and individuals across countries, and how this trust relates to economic and healthcare outcomes.\n",
    "\n",
    "### Materials used:\n",
    "   - Welcome Trust & Gallop survey https://wellcome.org/reports/wellcome-global-monitor/2018. Data for countries economics parameters and trust question were used. Level of the trust was calcolated as % of users answered 'A lot' and 'Some' to questions formulated as 'How much do you trust...' for next categories: Goverment, Media, Healthcare, Traditional Medicine, Scientists, Neighbors and NGOs\n",
    "   - Countries classification by Income level https://data.worldbank.org"
   ]
  },
  {
   "cell_type": "code",
   "execution_count": 1,
   "id": "fc34aafb",
   "metadata": {},
   "outputs": [],
   "source": [
    "import pandas as pd\n",
    "import matplotlib.pyplot as plt\n",
    "import seaborn as sns\n",
    "import os\n",
    "import numpy as np\n",
    "import plotly.express as px\n",
    "from scipy.stats import pearsonr"
   ]
  },
  {
   "cell_type": "code",
   "execution_count": 3,
   "id": "dfa10b8c",
   "metadata": {},
   "outputs": [
    {
     "name": "stdout",
     "output_type": "stream",
     "text": [
      "/Users/klynete/Desktop/Springboard/Wellcome trust\n"
     ]
    }
   ],
   "source": [
    "cwd = os.getcwd()\n",
    "print(cwd)"
   ]
  },
  {
   "cell_type": "code",
   "execution_count": 4,
   "id": "8314afd0",
   "metadata": {},
   "outputs": [],
   "source": [
    "countries=pd.read_csv(f'{cwd}/data/countries_health_data.csv', names=['Country', 'Data', 'Value'], header=None)"
   ]
  },
  {
   "cell_type": "code",
   "execution_count": null,
   "id": "2fa31071",
   "metadata": {},
   "outputs": [],
   "source": [
    "# Reshape to wide table\n",
    "countries_p=pd.pivot(countries, index='Country', columns='Data', values='Value').reset_index()"
   ]
  },
  {
   "cell_type": "code",
   "execution_count": null,
   "id": "ca322c64",
   "metadata": {},
   "outputs": [],
   "source": [
    "countries_p.info()"
   ]
  },
  {
   "cell_type": "code",
   "execution_count": null,
   "id": "e69fc1ba",
   "metadata": {},
   "outputs": [],
   "source": [
    "columns_mapping={countries_p.columns[1]:'GDP',\n",
    "                countries_p.columns[2]:'GINI',\n",
    "                countries_p.columns[3]:'Life_exp',\n",
    "                countries_p.columns[4]:'Mort_per_1000',\n",
    "                countries_p.columns[5]:'Research_per_mil',\n",
    "                countries_p.columns[6]:'Research_%_GDP'}\n",
    "countries_p.rename(columns=columns_mapping, inplace=True)\n",
    "countries_p.head()"
   ]
  },
  {
   "cell_type": "code",
   "execution_count": 5,
   "id": "275a66ca",
   "metadata": {},
   "outputs": [
    {
     "ename": "FileNotFoundError",
     "evalue": "[Errno 2] No such file or directory: '../data/wgm2018.csv'",
     "output_type": "error",
     "traceback": [
      "\u001b[0;31m---------------------------------------------------------------------------\u001b[0m",
      "\u001b[0;31mFileNotFoundError\u001b[0m                         Traceback (most recent call last)",
      "Input \u001b[0;32mIn [5]\u001b[0m, in \u001b[0;36m<cell line: 1>\u001b[0;34m()\u001b[0m\n\u001b[0;32m----> 1\u001b[0m wgm\u001b[38;5;241m=\u001b[39m\u001b[43mpd\u001b[49m\u001b[38;5;241;43m.\u001b[39;49m\u001b[43mread_csv\u001b[49m\u001b[43m(\u001b[49m\u001b[38;5;124;43m'\u001b[39;49m\u001b[38;5;124;43m../data/wgm2018.csv\u001b[39;49m\u001b[38;5;124;43m'\u001b[39;49m\u001b[43m)\u001b[49m\n\u001b[1;32m      2\u001b[0m wgm\u001b[38;5;241m.\u001b[39mhead()\n",
      "File \u001b[0;32m~/opt/anaconda3/lib/python3.9/site-packages/pandas/util/_decorators.py:311\u001b[0m, in \u001b[0;36mdeprecate_nonkeyword_arguments.<locals>.decorate.<locals>.wrapper\u001b[0;34m(*args, **kwargs)\u001b[0m\n\u001b[1;32m    305\u001b[0m \u001b[38;5;28;01mif\u001b[39;00m \u001b[38;5;28mlen\u001b[39m(args) \u001b[38;5;241m>\u001b[39m num_allow_args:\n\u001b[1;32m    306\u001b[0m     warnings\u001b[38;5;241m.\u001b[39mwarn(\n\u001b[1;32m    307\u001b[0m         msg\u001b[38;5;241m.\u001b[39mformat(arguments\u001b[38;5;241m=\u001b[39marguments),\n\u001b[1;32m    308\u001b[0m         \u001b[38;5;167;01mFutureWarning\u001b[39;00m,\n\u001b[1;32m    309\u001b[0m         stacklevel\u001b[38;5;241m=\u001b[39mstacklevel,\n\u001b[1;32m    310\u001b[0m     )\n\u001b[0;32m--> 311\u001b[0m \u001b[38;5;28;01mreturn\u001b[39;00m \u001b[43mfunc\u001b[49m\u001b[43m(\u001b[49m\u001b[38;5;241;43m*\u001b[39;49m\u001b[43margs\u001b[49m\u001b[43m,\u001b[49m\u001b[43m \u001b[49m\u001b[38;5;241;43m*\u001b[39;49m\u001b[38;5;241;43m*\u001b[39;49m\u001b[43mkwargs\u001b[49m\u001b[43m)\u001b[49m\n",
      "File \u001b[0;32m~/opt/anaconda3/lib/python3.9/site-packages/pandas/io/parsers/readers.py:678\u001b[0m, in \u001b[0;36mread_csv\u001b[0;34m(filepath_or_buffer, sep, delimiter, header, names, index_col, usecols, squeeze, prefix, mangle_dupe_cols, dtype, engine, converters, true_values, false_values, skipinitialspace, skiprows, skipfooter, nrows, na_values, keep_default_na, na_filter, verbose, skip_blank_lines, parse_dates, infer_datetime_format, keep_date_col, date_parser, dayfirst, cache_dates, iterator, chunksize, compression, thousands, decimal, lineterminator, quotechar, quoting, doublequote, escapechar, comment, encoding, encoding_errors, dialect, error_bad_lines, warn_bad_lines, on_bad_lines, delim_whitespace, low_memory, memory_map, float_precision, storage_options)\u001b[0m\n\u001b[1;32m    663\u001b[0m kwds_defaults \u001b[38;5;241m=\u001b[39m _refine_defaults_read(\n\u001b[1;32m    664\u001b[0m     dialect,\n\u001b[1;32m    665\u001b[0m     delimiter,\n\u001b[0;32m   (...)\u001b[0m\n\u001b[1;32m    674\u001b[0m     defaults\u001b[38;5;241m=\u001b[39m{\u001b[38;5;124m\"\u001b[39m\u001b[38;5;124mdelimiter\u001b[39m\u001b[38;5;124m\"\u001b[39m: \u001b[38;5;124m\"\u001b[39m\u001b[38;5;124m,\u001b[39m\u001b[38;5;124m\"\u001b[39m},\n\u001b[1;32m    675\u001b[0m )\n\u001b[1;32m    676\u001b[0m kwds\u001b[38;5;241m.\u001b[39mupdate(kwds_defaults)\n\u001b[0;32m--> 678\u001b[0m \u001b[38;5;28;01mreturn\u001b[39;00m \u001b[43m_read\u001b[49m\u001b[43m(\u001b[49m\u001b[43mfilepath_or_buffer\u001b[49m\u001b[43m,\u001b[49m\u001b[43m \u001b[49m\u001b[43mkwds\u001b[49m\u001b[43m)\u001b[49m\n",
      "File \u001b[0;32m~/opt/anaconda3/lib/python3.9/site-packages/pandas/io/parsers/readers.py:575\u001b[0m, in \u001b[0;36m_read\u001b[0;34m(filepath_or_buffer, kwds)\u001b[0m\n\u001b[1;32m    572\u001b[0m _validate_names(kwds\u001b[38;5;241m.\u001b[39mget(\u001b[38;5;124m\"\u001b[39m\u001b[38;5;124mnames\u001b[39m\u001b[38;5;124m\"\u001b[39m, \u001b[38;5;28;01mNone\u001b[39;00m))\n\u001b[1;32m    574\u001b[0m \u001b[38;5;66;03m# Create the parser.\u001b[39;00m\n\u001b[0;32m--> 575\u001b[0m parser \u001b[38;5;241m=\u001b[39m \u001b[43mTextFileReader\u001b[49m\u001b[43m(\u001b[49m\u001b[43mfilepath_or_buffer\u001b[49m\u001b[43m,\u001b[49m\u001b[43m \u001b[49m\u001b[38;5;241;43m*\u001b[39;49m\u001b[38;5;241;43m*\u001b[39;49m\u001b[43mkwds\u001b[49m\u001b[43m)\u001b[49m\n\u001b[1;32m    577\u001b[0m \u001b[38;5;28;01mif\u001b[39;00m chunksize \u001b[38;5;129;01mor\u001b[39;00m iterator:\n\u001b[1;32m    578\u001b[0m     \u001b[38;5;28;01mreturn\u001b[39;00m parser\n",
      "File \u001b[0;32m~/opt/anaconda3/lib/python3.9/site-packages/pandas/io/parsers/readers.py:932\u001b[0m, in \u001b[0;36mTextFileReader.__init__\u001b[0;34m(self, f, engine, **kwds)\u001b[0m\n\u001b[1;32m    929\u001b[0m     \u001b[38;5;28mself\u001b[39m\u001b[38;5;241m.\u001b[39moptions[\u001b[38;5;124m\"\u001b[39m\u001b[38;5;124mhas_index_names\u001b[39m\u001b[38;5;124m\"\u001b[39m] \u001b[38;5;241m=\u001b[39m kwds[\u001b[38;5;124m\"\u001b[39m\u001b[38;5;124mhas_index_names\u001b[39m\u001b[38;5;124m\"\u001b[39m]\n\u001b[1;32m    931\u001b[0m \u001b[38;5;28mself\u001b[39m\u001b[38;5;241m.\u001b[39mhandles: IOHandles \u001b[38;5;241m|\u001b[39m \u001b[38;5;28;01mNone\u001b[39;00m \u001b[38;5;241m=\u001b[39m \u001b[38;5;28;01mNone\u001b[39;00m\n\u001b[0;32m--> 932\u001b[0m \u001b[38;5;28mself\u001b[39m\u001b[38;5;241m.\u001b[39m_engine \u001b[38;5;241m=\u001b[39m \u001b[38;5;28;43mself\u001b[39;49m\u001b[38;5;241;43m.\u001b[39;49m\u001b[43m_make_engine\u001b[49m\u001b[43m(\u001b[49m\u001b[43mf\u001b[49m\u001b[43m,\u001b[49m\u001b[43m \u001b[49m\u001b[38;5;28;43mself\u001b[39;49m\u001b[38;5;241;43m.\u001b[39;49m\u001b[43mengine\u001b[49m\u001b[43m)\u001b[49m\n",
      "File \u001b[0;32m~/opt/anaconda3/lib/python3.9/site-packages/pandas/io/parsers/readers.py:1216\u001b[0m, in \u001b[0;36mTextFileReader._make_engine\u001b[0;34m(self, f, engine)\u001b[0m\n\u001b[1;32m   1212\u001b[0m     mode \u001b[38;5;241m=\u001b[39m \u001b[38;5;124m\"\u001b[39m\u001b[38;5;124mrb\u001b[39m\u001b[38;5;124m\"\u001b[39m\n\u001b[1;32m   1213\u001b[0m \u001b[38;5;66;03m# error: No overload variant of \"get_handle\" matches argument types\u001b[39;00m\n\u001b[1;32m   1214\u001b[0m \u001b[38;5;66;03m# \"Union[str, PathLike[str], ReadCsvBuffer[bytes], ReadCsvBuffer[str]]\"\u001b[39;00m\n\u001b[1;32m   1215\u001b[0m \u001b[38;5;66;03m# , \"str\", \"bool\", \"Any\", \"Any\", \"Any\", \"Any\", \"Any\"\u001b[39;00m\n\u001b[0;32m-> 1216\u001b[0m \u001b[38;5;28mself\u001b[39m\u001b[38;5;241m.\u001b[39mhandles \u001b[38;5;241m=\u001b[39m \u001b[43mget_handle\u001b[49m\u001b[43m(\u001b[49m\u001b[43m  \u001b[49m\u001b[38;5;66;43;03m# type: ignore[call-overload]\u001b[39;49;00m\n\u001b[1;32m   1217\u001b[0m \u001b[43m    \u001b[49m\u001b[43mf\u001b[49m\u001b[43m,\u001b[49m\n\u001b[1;32m   1218\u001b[0m \u001b[43m    \u001b[49m\u001b[43mmode\u001b[49m\u001b[43m,\u001b[49m\n\u001b[1;32m   1219\u001b[0m \u001b[43m    \u001b[49m\u001b[43mencoding\u001b[49m\u001b[38;5;241;43m=\u001b[39;49m\u001b[38;5;28;43mself\u001b[39;49m\u001b[38;5;241;43m.\u001b[39;49m\u001b[43moptions\u001b[49m\u001b[38;5;241;43m.\u001b[39;49m\u001b[43mget\u001b[49m\u001b[43m(\u001b[49m\u001b[38;5;124;43m\"\u001b[39;49m\u001b[38;5;124;43mencoding\u001b[39;49m\u001b[38;5;124;43m\"\u001b[39;49m\u001b[43m,\u001b[49m\u001b[43m \u001b[49m\u001b[38;5;28;43;01mNone\u001b[39;49;00m\u001b[43m)\u001b[49m\u001b[43m,\u001b[49m\n\u001b[1;32m   1220\u001b[0m \u001b[43m    \u001b[49m\u001b[43mcompression\u001b[49m\u001b[38;5;241;43m=\u001b[39;49m\u001b[38;5;28;43mself\u001b[39;49m\u001b[38;5;241;43m.\u001b[39;49m\u001b[43moptions\u001b[49m\u001b[38;5;241;43m.\u001b[39;49m\u001b[43mget\u001b[49m\u001b[43m(\u001b[49m\u001b[38;5;124;43m\"\u001b[39;49m\u001b[38;5;124;43mcompression\u001b[39;49m\u001b[38;5;124;43m\"\u001b[39;49m\u001b[43m,\u001b[49m\u001b[43m \u001b[49m\u001b[38;5;28;43;01mNone\u001b[39;49;00m\u001b[43m)\u001b[49m\u001b[43m,\u001b[49m\n\u001b[1;32m   1221\u001b[0m \u001b[43m    \u001b[49m\u001b[43mmemory_map\u001b[49m\u001b[38;5;241;43m=\u001b[39;49m\u001b[38;5;28;43mself\u001b[39;49m\u001b[38;5;241;43m.\u001b[39;49m\u001b[43moptions\u001b[49m\u001b[38;5;241;43m.\u001b[39;49m\u001b[43mget\u001b[49m\u001b[43m(\u001b[49m\u001b[38;5;124;43m\"\u001b[39;49m\u001b[38;5;124;43mmemory_map\u001b[39;49m\u001b[38;5;124;43m\"\u001b[39;49m\u001b[43m,\u001b[49m\u001b[43m \u001b[49m\u001b[38;5;28;43;01mFalse\u001b[39;49;00m\u001b[43m)\u001b[49m\u001b[43m,\u001b[49m\n\u001b[1;32m   1222\u001b[0m \u001b[43m    \u001b[49m\u001b[43mis_text\u001b[49m\u001b[38;5;241;43m=\u001b[39;49m\u001b[43mis_text\u001b[49m\u001b[43m,\u001b[49m\n\u001b[1;32m   1223\u001b[0m \u001b[43m    \u001b[49m\u001b[43merrors\u001b[49m\u001b[38;5;241;43m=\u001b[39;49m\u001b[38;5;28;43mself\u001b[39;49m\u001b[38;5;241;43m.\u001b[39;49m\u001b[43moptions\u001b[49m\u001b[38;5;241;43m.\u001b[39;49m\u001b[43mget\u001b[49m\u001b[43m(\u001b[49m\u001b[38;5;124;43m\"\u001b[39;49m\u001b[38;5;124;43mencoding_errors\u001b[39;49m\u001b[38;5;124;43m\"\u001b[39;49m\u001b[43m,\u001b[49m\u001b[43m \u001b[49m\u001b[38;5;124;43m\"\u001b[39;49m\u001b[38;5;124;43mstrict\u001b[39;49m\u001b[38;5;124;43m\"\u001b[39;49m\u001b[43m)\u001b[49m\u001b[43m,\u001b[49m\n\u001b[1;32m   1224\u001b[0m \u001b[43m    \u001b[49m\u001b[43mstorage_options\u001b[49m\u001b[38;5;241;43m=\u001b[39;49m\u001b[38;5;28;43mself\u001b[39;49m\u001b[38;5;241;43m.\u001b[39;49m\u001b[43moptions\u001b[49m\u001b[38;5;241;43m.\u001b[39;49m\u001b[43mget\u001b[49m\u001b[43m(\u001b[49m\u001b[38;5;124;43m\"\u001b[39;49m\u001b[38;5;124;43mstorage_options\u001b[39;49m\u001b[38;5;124;43m\"\u001b[39;49m\u001b[43m,\u001b[49m\u001b[43m \u001b[49m\u001b[38;5;28;43;01mNone\u001b[39;49;00m\u001b[43m)\u001b[49m\u001b[43m,\u001b[49m\n\u001b[1;32m   1225\u001b[0m \u001b[43m\u001b[49m\u001b[43m)\u001b[49m\n\u001b[1;32m   1226\u001b[0m \u001b[38;5;28;01massert\u001b[39;00m \u001b[38;5;28mself\u001b[39m\u001b[38;5;241m.\u001b[39mhandles \u001b[38;5;129;01mis\u001b[39;00m \u001b[38;5;129;01mnot\u001b[39;00m \u001b[38;5;28;01mNone\u001b[39;00m\n\u001b[1;32m   1227\u001b[0m f \u001b[38;5;241m=\u001b[39m \u001b[38;5;28mself\u001b[39m\u001b[38;5;241m.\u001b[39mhandles\u001b[38;5;241m.\u001b[39mhandle\n",
      "File \u001b[0;32m~/opt/anaconda3/lib/python3.9/site-packages/pandas/io/common.py:786\u001b[0m, in \u001b[0;36mget_handle\u001b[0;34m(path_or_buf, mode, encoding, compression, memory_map, is_text, errors, storage_options)\u001b[0m\n\u001b[1;32m    781\u001b[0m \u001b[38;5;28;01melif\u001b[39;00m \u001b[38;5;28misinstance\u001b[39m(handle, \u001b[38;5;28mstr\u001b[39m):\n\u001b[1;32m    782\u001b[0m     \u001b[38;5;66;03m# Check whether the filename is to be opened in binary mode.\u001b[39;00m\n\u001b[1;32m    783\u001b[0m     \u001b[38;5;66;03m# Binary mode does not support 'encoding' and 'newline'.\u001b[39;00m\n\u001b[1;32m    784\u001b[0m     \u001b[38;5;28;01mif\u001b[39;00m ioargs\u001b[38;5;241m.\u001b[39mencoding \u001b[38;5;129;01mand\u001b[39;00m \u001b[38;5;124m\"\u001b[39m\u001b[38;5;124mb\u001b[39m\u001b[38;5;124m\"\u001b[39m \u001b[38;5;129;01mnot\u001b[39;00m \u001b[38;5;129;01min\u001b[39;00m ioargs\u001b[38;5;241m.\u001b[39mmode:\n\u001b[1;32m    785\u001b[0m         \u001b[38;5;66;03m# Encoding\u001b[39;00m\n\u001b[0;32m--> 786\u001b[0m         handle \u001b[38;5;241m=\u001b[39m \u001b[38;5;28;43mopen\u001b[39;49m\u001b[43m(\u001b[49m\n\u001b[1;32m    787\u001b[0m \u001b[43m            \u001b[49m\u001b[43mhandle\u001b[49m\u001b[43m,\u001b[49m\n\u001b[1;32m    788\u001b[0m \u001b[43m            \u001b[49m\u001b[43mioargs\u001b[49m\u001b[38;5;241;43m.\u001b[39;49m\u001b[43mmode\u001b[49m\u001b[43m,\u001b[49m\n\u001b[1;32m    789\u001b[0m \u001b[43m            \u001b[49m\u001b[43mencoding\u001b[49m\u001b[38;5;241;43m=\u001b[39;49m\u001b[43mioargs\u001b[49m\u001b[38;5;241;43m.\u001b[39;49m\u001b[43mencoding\u001b[49m\u001b[43m,\u001b[49m\n\u001b[1;32m    790\u001b[0m \u001b[43m            \u001b[49m\u001b[43merrors\u001b[49m\u001b[38;5;241;43m=\u001b[39;49m\u001b[43merrors\u001b[49m\u001b[43m,\u001b[49m\n\u001b[1;32m    791\u001b[0m \u001b[43m            \u001b[49m\u001b[43mnewline\u001b[49m\u001b[38;5;241;43m=\u001b[39;49m\u001b[38;5;124;43m\"\u001b[39;49m\u001b[38;5;124;43m\"\u001b[39;49m\u001b[43m,\u001b[49m\n\u001b[1;32m    792\u001b[0m \u001b[43m        \u001b[49m\u001b[43m)\u001b[49m\n\u001b[1;32m    793\u001b[0m     \u001b[38;5;28;01melse\u001b[39;00m:\n\u001b[1;32m    794\u001b[0m         \u001b[38;5;66;03m# Binary mode\u001b[39;00m\n\u001b[1;32m    795\u001b[0m         handle \u001b[38;5;241m=\u001b[39m \u001b[38;5;28mopen\u001b[39m(handle, ioargs\u001b[38;5;241m.\u001b[39mmode)\n",
      "\u001b[0;31mFileNotFoundError\u001b[0m: [Errno 2] No such file or directory: '../data/wgm2018.csv'"
     ]
    }
   ],
   "source": [
    "wgm=pd.read_csv(f'{cwd}/data/wgm2018.csv')\n",
    "wgm.head()"
   ]
  },
  {
   "cell_type": "code",
   "execution_count": null,
   "id": "a34e14bb",
   "metadata": {},
   "outputs": [],
   "source": [
    "#We will use only answers for question related to Trust\n",
    "trust=wgm[wgm['Question Number'].str.contains('Q11')]\n",
    "trust.head()"
   ]
  },
  {
   "cell_type": "code",
   "execution_count": null,
   "id": "d400ab92",
   "metadata": {},
   "outputs": [],
   "source": [
    "trust.Question.unique()"
   ]
  },
  {
   "cell_type": "code",
   "execution_count": null,
   "id": "3bc45471",
   "metadata": {},
   "outputs": [],
   "source": [
    "# create mapping\n",
    "questions={'Q11A':'Neighbors', 'Q11B':'Govt', 'Q11C':'Scientists', 'Q11D':'Journalists', 'Q11E':'Doctors', \n",
    "           'Q11F':'NGO', 'Q11G':'Healers'}\n",
    "trust['Question Number'].replace(questions, inplace=True)\n",
    "trust['Question Number'].unique()"
   ]
  },
  {
   "cell_type": "code",
   "execution_count": null,
   "id": "a18c4923",
   "metadata": {},
   "outputs": [],
   "source": [
    "trust['Response'].unique()"
   ]
  },
  {
   "cell_type": "code",
   "execution_count": null,
   "id": "dbc873c0",
   "metadata": {},
   "outputs": [],
   "source": [
    "trust.drop(columns='Question', inplace=True)"
   ]
  },
  {
   "cell_type": "code",
   "execution_count": null,
   "id": "32f891b8",
   "metadata": {},
   "outputs": [],
   "source": [
    "trust.rename(columns={'Country Name':'Country','Question Number':'Q'}, inplace=True)\n",
    "trust.head()"
   ]
  },
  {
   "cell_type": "code",
   "execution_count": null,
   "id": "6a3913b3",
   "metadata": {},
   "outputs": [],
   "source": [
    "trust['Value']=trust['Response Total %']/100\n",
    "trust.drop(columns='Response Total %', inplace=True)"
   ]
  },
  {
   "cell_type": "code",
   "execution_count": null,
   "id": "3da47043",
   "metadata": {},
   "outputs": [],
   "source": [
    "trust_clean=trust[trust.Response.str.contains('A lot|Some')]\n",
    "trust_clean.head()"
   ]
  },
  {
   "cell_type": "code",
   "execution_count": null,
   "id": "87a6c5c5",
   "metadata": {},
   "outputs": [],
   "source": [
    "trust_p=pd.pivot_table(trust_clean, index='Country', columns='Q', values='Value', aggfunc='sum').reset_index()"
   ]
  },
  {
   "cell_type": "code",
   "execution_count": null,
   "id": "41bb2645",
   "metadata": {},
   "outputs": [],
   "source": [
    "trust_p.info()"
   ]
  },
  {
   "cell_type": "code",
   "execution_count": null,
   "id": "2b7936a3",
   "metadata": {},
   "outputs": [],
   "source": [
    "#Load list of countries and their Alpha-3 ISO codes\n",
    "iso=pd.read_csv(f'{cwd}/data/wikipedia-iso-country-codes.csv', names=['Country', 'A2', 'A3','Num','ISO'], header=None)\n",
    "iso.drop(columns=['A2', 'Num','ISO'], inplace=True)\n",
    "# Income level classification for countries from worldbank.org\n",
    "income=pd.read_csv(f'{cwd}/data/ncome.csv')"
   ]
  },
  {
   "cell_type": "code",
   "execution_count": null,
   "id": "907c0047",
   "metadata": {},
   "outputs": [],
   "source": [
    "#Join trust dataset and countries\n",
    "df=pd.merge(pd.merge(pd.merge(trust_p,countries_p, 'left',on='Country'), iso,'left',on='Country'), income, 'left',on='A3')\n",
    "df.head()"
   ]
  },
  {
   "cell_type": "code",
   "execution_count": null,
   "id": "247a5a90",
   "metadata": {},
   "outputs": [],
   "source": [
    "df.info()"
   ]
  },
  {
   "cell_type": "code",
   "execution_count": null,
   "id": "3ad58a69",
   "metadata": {},
   "outputs": [],
   "source": [
    "df[df['A3'].isna()]"
   ]
  },
  {
   "cell_type": "code",
   "execution_count": null,
   "id": "e8a1c082",
   "metadata": {},
   "outputs": [],
   "source": [
    "df = df[df['A3'].notna()]\n",
    "df = df[df['GDP'].notna()]"
   ]
  },
  {
   "cell_type": "code",
   "execution_count": null,
   "id": "ffaaf508",
   "metadata": {},
   "outputs": [],
   "source": [
    "df[df['Govt'].isna()]"
   ]
  },
  {
   "cell_type": "code",
   "execution_count": null,
   "id": "0afef50e",
   "metadata": {},
   "outputs": [],
   "source": [
    "df.describe()"
   ]
  },
  {
   "cell_type": "code",
   "execution_count": null,
   "id": "fe60ca23",
   "metadata": {},
   "outputs": [],
   "source": [
    "df.info()"
   ]
  },
  {
   "cell_type": "code",
   "execution_count": null,
   "id": "fde95803",
   "metadata": {},
   "outputs": [],
   "source": [
    "plt.figure(figsize=(16,7))\n",
    "_=sns.heatmap(df.corr(), annot=True)\n",
    "_=plt.title('Correlation heatmap')\n"
   ]
  },
  {
   "cell_type": "code",
   "execution_count": null,
   "id": "f830e568",
   "metadata": {},
   "outputs": [],
   "source": [
    "df['Income_rating'].unique()"
   ]
  },
  {
   "cell_type": "code",
   "execution_count": null,
   "id": "592b948a",
   "metadata": {},
   "outputs": [],
   "source": [
    "order=['L','LM','UM','H']"
   ]
  },
  {
   "cell_type": "code",
   "execution_count": null,
   "id": "cb34fdb6",
   "metadata": {},
   "outputs": [],
   "source": [
    "# outliers checking\n",
    "def outliers(df, col, threshold=2):\n",
    "    # calculate z-scores\n",
    "    z_scores = (df[col] - np.mean(df[col])) / np.std(df[col])\n",
    "    # set a threshold for z-scores\n",
    "    \n",
    "    # find outliers using the threshold\n",
    "    outliers = np.where(np.abs(z_scores) > threshold)\n",
    "    # print the outliers\n",
    "    print(\"Outliers for trust in \",col,\":\\n\", df[['Country', col]].iloc[outliers].sort_values(by=col))\n",
    "    return outliers\n"
   ]
  },
  {
   "cell_type": "markdown",
   "id": "ca62f3bb",
   "metadata": {},
   "source": [
    "We will need to check Pearson correlation coefficient to test the relationship between different columns. The pearsonr() function from the scipy.stats module is used to calculate the correlation coefficient and the associated p-value. Then p-value is checked against the significance level (alpha=0.05) to accept or reject the null hypothesis.\n",
    "\n",
    "Null hypothesis: There is no relationship between column 1 and 2.\n",
    "Alternative hypothesis: There is a positive relationship between column 1 and 2."
   ]
  },
  {
   "cell_type": "code",
   "execution_count": null,
   "id": "6b62efe1",
   "metadata": {},
   "outputs": [],
   "source": [
    "def corr_hypothesis(df, col1, col2):\n",
    "    df_corr=df[[col1, col2]].dropna()\n",
    "    corr, p_value = pearsonr(df_corr[col1], df_corr[col2])\n",
    "    # print the correlation coefficient and p-value\n",
    "    print(\"Correlation coefficient:\", corr)\n",
    "    print(\"p-value:\", p_value)\n",
    "    if corr>0:\n",
    "        sign='positive'\n",
    "    else:\n",
    "        sign='negative'\n",
    "\n",
    "    # set the significance level\n",
    "    alpha = 0.05\n",
    "\n",
    "    # check if p-value is less than significance level\n",
    "    if p_value < alpha:\n",
    "        print(\"There is a\",sign, \"relationship between trust in\", col1, \"and\", col2,\"(reject null hypothesis)\")\n",
    "    else:\n",
    "        print(\"There is no relationship between trust in\", col1, \"and\", col2,\"(fail to reject null hypothesis)\")\n"
   ]
  },
  {
   "cell_type": "code",
   "execution_count": null,
   "id": "a4c613ba",
   "metadata": {},
   "outputs": [],
   "source": [
    "def annotate(df, col1, col2):\n",
    "    minC1=df['Country'].loc[df[col1]==df[col1].min()].values[0]\n",
    "    minC2=df['Country'].loc[df[col2]==df[col2].min()].values[0]\n",
    "    maxC1=df['Country'].loc[df[col1]==df[col1].max()].values[0]\n",
    "    maxC2=df['Country'].loc[df[col2]==df[col2].max()].values[0]\n",
    "    plt.text(df[df.Country==minC1][col1],df[df.Country==minC1][col2],minC1, color='black')\n",
    "    plt.text(df[df.Country==minC2][col1],df[df.Country==minC2][col2],minC2, color='black')\n",
    "    plt.text(df[df.Country==maxC1][col1]-0.02,df[df.Country==maxC1][col2]+0.02,maxC1, color='black')\n",
    "    plt.text(df[df.Country==maxC2][col1],df[df.Country==maxC2][col2],maxC2, color='black')"
   ]
  },
  {
   "cell_type": "markdown",
   "id": "b2f89a3c",
   "metadata": {},
   "source": [
    "## Trust in government and economic performance"
   ]
  },
  {
   "cell_type": "markdown",
   "id": "ccf0f501",
   "metadata": {},
   "source": [
    "Let's check relations between trust level for Goverment and economic performance for countries by next parameters: GDP per capita, GINI coefficient and grouping by level of income"
   ]
  },
  {
   "cell_type": "code",
   "execution_count": null,
   "id": "d15a6171",
   "metadata": {},
   "outputs": [],
   "source": [
    "df[['Country', 'Govt']].sort_values(by='Govt', ascending=False).head(5)"
   ]
  },
  {
   "cell_type": "code",
   "execution_count": null,
   "id": "4d86b0ca",
   "metadata": {},
   "outputs": [],
   "source": [
    "df[['Country', 'Govt']].sort_values(by='Govt', ascending=False).dropna().tail(5)"
   ]
  },
  {
   "cell_type": "code",
   "execution_count": null,
   "id": "36af7383",
   "metadata": {},
   "outputs": [],
   "source": [
    "df[\"Income_rating\"].value_counts().plot(kind='bar', title='Count of Countries by income level');"
   ]
  },
  {
   "cell_type": "code",
   "execution_count": null,
   "id": "d889e31a",
   "metadata": {},
   "outputs": [],
   "source": [
    "sns.boxplot(x=\"Income_rating\", y=\"GDP\", data=df, order=order).set(title='Comparison of GDP levels by Income level');"
   ]
  },
  {
   "cell_type": "code",
   "execution_count": null,
   "id": "269eba31",
   "metadata": {},
   "outputs": [],
   "source": [
    "sns.boxplot(x=\"Income_rating\", y=\"Govt\", data=df, order=order).set(title='Comparison of trust to the Govt by Income level');"
   ]
  },
  {
   "cell_type": "code",
   "execution_count": null,
   "id": "f2292edd",
   "metadata": {},
   "outputs": [],
   "source": [
    "_=outliers(df[df['Income_rating']=='H'], 'Govt', 2)"
   ]
  },
  {
   "cell_type": "code",
   "execution_count": null,
   "id": "5f3a8345",
   "metadata": {},
   "outputs": [],
   "source": [
    "_=outliers(df, 'Govt', 2)"
   ]
  },
  {
   "cell_type": "code",
   "execution_count": null,
   "id": "354c727c",
   "metadata": {},
   "outputs": [],
   "source": [
    "sns.lmplot(data=df, x='Govt', y='GDP', hue='Income_rating', hue_order=order, height=6, aspect=1.5).set(title='GDP vs. trust to the Govt by levels by Income level')\n",
    "annotate(df,'Govt', 'GDP');"
   ]
  },
  {
   "cell_type": "code",
   "execution_count": null,
   "id": "44ac17ad",
   "metadata": {},
   "outputs": [],
   "source": [
    "fig = px.choropleth(df, locations=\"A3\",\n",
    "                    color=\"Govt\", \n",
    "                    hover_data=[\"Country\", \"GDP\"],\n",
    "                    title=\"Trust to Goverment among countries\",\n",
    "                    color_continuous_scale=px.colors.diverging.Spectral)\n",
    "fig.show()"
   ]
  },
  {
   "cell_type": "code",
   "execution_count": null,
   "id": "09c53fed",
   "metadata": {},
   "outputs": [],
   "source": [
    "corr_hypothesis(df, 'Govt', 'GDP')"
   ]
  },
  {
   "cell_type": "code",
   "execution_count": null,
   "id": "8390868e",
   "metadata": {
    "scrolled": true
   },
   "outputs": [],
   "source": [
    "corr_hypothesis(df[df['Income_rating']!='H'], 'Govt', 'GDP')"
   ]
  },
  {
   "cell_type": "code",
   "execution_count": null,
   "id": "ca25e446",
   "metadata": {
    "scrolled": true
   },
   "outputs": [],
   "source": [
    "corr_hypothesis(df[df['Income_rating']=='H'], 'Govt', 'GDP')"
   ]
  },
  {
   "cell_type": "code",
   "execution_count": null,
   "id": "fb56a4c7",
   "metadata": {
    "scrolled": true
   },
   "outputs": [],
   "source": [
    "fig, ax = plt.subplots(figsize=(12,6))\n",
    "sns.scatterplot(ax=ax, x=df['Govt'], y=df['GINI'], hue=df['Income_rating'], hue_order=order).set(title='Trust to Govt vs. GINI coef.')\n",
    "annotate(df, 'Govt', 'GINI');"
   ]
  },
  {
   "cell_type": "code",
   "execution_count": null,
   "id": "91db2778",
   "metadata": {},
   "outputs": [],
   "source": [
    "corr_hypothesis(df, 'Govt', 'GINI')"
   ]
  },
  {
   "cell_type": "markdown",
   "id": "23551c0b",
   "metadata": {},
   "source": [
    "### Summary:\n",
    "   - The largest group of countries is considered as countries with High income, same time GDP per capita for this group is much wider distributed than for other groups.\n",
    "   - Among High income countries the lowest level is in Greece - 17% and highest in Norway - 89%\n",
    "   - The weakest trust in Government is in Ukraine - 11%\n",
    "   - There is no relationship between trust to Government and GDP as well as between trust to Government and GINI coefficient, but there is positive correlation between trust to Government and GDP among High income countries."
   ]
  },
  {
   "cell_type": "markdown",
   "id": "2c5a2815",
   "metadata": {},
   "source": [
    "## Trust in the Healthcare and country statistics"
   ]
  },
  {
   "cell_type": "markdown",
   "id": "cb4f2f99",
   "metadata": {},
   "source": [
    "Let's investigate how level of trust to healthcare depends on country data related to health level from: Life expectancy, Mortality rate. Also let's consider information regarding trust to Healers and how it is related to above parameters"
   ]
  },
  {
   "cell_type": "code",
   "execution_count": null,
   "id": "948499d2",
   "metadata": {
    "scrolled": true
   },
   "outputs": [],
   "source": [
    "df[['Country', 'Doctors', 'Income_rating']].sort_values(by='Doctors', ascending=False).head(5)"
   ]
  },
  {
   "cell_type": "code",
   "execution_count": null,
   "id": "77db37a7",
   "metadata": {
    "scrolled": true
   },
   "outputs": [],
   "source": [
    "df[['Country', 'Doctors', 'Income_rating']].sort_values(by='Doctors', ascending=False).tail(5)"
   ]
  },
  {
   "cell_type": "code",
   "execution_count": null,
   "id": "af0fdd11",
   "metadata": {
    "scrolled": true
   },
   "outputs": [],
   "source": [
    "sns.boxplot(x=\"Income_rating\", y=\"Doctors\", data=df, order=order).set(title='Comparison of trust to The Healthcare by Income level');"
   ]
  },
  {
   "cell_type": "code",
   "execution_count": null,
   "id": "97bb2c5c",
   "metadata": {},
   "outputs": [],
   "source": [
    "outl=outliers(df[df['Income_rating']=='H'], 'Doctors', 2)"
   ]
  },
  {
   "cell_type": "code",
   "execution_count": null,
   "id": "bbeecfec",
   "metadata": {},
   "outputs": [],
   "source": [
    "df[df['Income_rating']=='H'][['Country', 'Doctors', 'Life_exp','Mort_per_1000']].iloc[outl]"
   ]
  },
  {
   "cell_type": "code",
   "execution_count": null,
   "id": "7fee1ed0",
   "metadata": {},
   "outputs": [],
   "source": [
    "outl2=outliers(df, 'Doctors', 2)"
   ]
  },
  {
   "cell_type": "code",
   "execution_count": null,
   "id": "aec35a4f",
   "metadata": {},
   "outputs": [],
   "source": [
    "df[['Country', 'Doctors', 'Life_exp','Mort_per_1000']].iloc[outl2]"
   ]
  },
  {
   "cell_type": "code",
   "execution_count": null,
   "id": "9ff1935c",
   "metadata": {},
   "outputs": [],
   "source": [
    "fig = px.choropleth(df, locations=\"A3\",\n",
    "                    color=\"Doctors\", \n",
    "                    hover_data=[\"Mort_per_1000\", \"Life_exp\"],\n",
    "                    title=\"Trust to the Healthcare in the World\",\n",
    "                    color_continuous_scale=px.colors.diverging.Spectral)\n",
    "fig.show()"
   ]
  },
  {
   "cell_type": "code",
   "execution_count": null,
   "id": "81357c7d",
   "metadata": {},
   "outputs": [],
   "source": [
    "sns.lmplot(data=df, x='Doctors', y='Life_exp', hue='Income_rating', hue_order=order, height=6, aspect=1.5).set(title='Trust to the Healthcare vs. Life Expectancy by levels by Income level')\n",
    "annotate(df, 'Doctors', 'Life_exp');"
   ]
  },
  {
   "cell_type": "code",
   "execution_count": null,
   "id": "9aa8cd7f",
   "metadata": {},
   "outputs": [],
   "source": [
    "corr_hypothesis(df, 'Doctors', 'Life_exp')"
   ]
  },
  {
   "cell_type": "code",
   "execution_count": null,
   "id": "64f12a7a",
   "metadata": {},
   "outputs": [],
   "source": [
    "sns.lmplot(data=df, x='Doctors', y='Mort_per_1000', hue='Income_rating', hue_order=order, height=6, aspect=1.5).set(title='Trust to the Healthcare vs. Mortality Rate by levels by Income level')\n",
    "annotate(df, 'Doctors', 'Mort_per_1000');"
   ]
  },
  {
   "cell_type": "code",
   "execution_count": null,
   "id": "0c01ce1b",
   "metadata": {},
   "outputs": [],
   "source": [
    "corr_hypothesis(df, 'Doctors', 'Mort_per_1000')"
   ]
  },
  {
   "cell_type": "code",
   "execution_count": null,
   "id": "243589e7",
   "metadata": {},
   "outputs": [],
   "source": [
    "sns.lmplot(data=df, x='Doctors', y='Healers', hue='Income_rating', hue_order=order, height=6, aspect=1.5).set(title='Trust to the Healthcare vs. trust to the Traditional Medicine by levels by Income level')\n",
    "annotate(df, 'Doctors', 'Healers');"
   ]
  },
  {
   "cell_type": "code",
   "execution_count": null,
   "id": "44a30180",
   "metadata": {},
   "outputs": [],
   "source": [
    "sns.boxplot(x=\"Income_rating\", y=\"Healers\", data=df, order=order).set(title='Comparison of trust to Traditinal medicine by Income level');"
   ]
  },
  {
   "cell_type": "code",
   "execution_count": null,
   "id": "eed3837a",
   "metadata": {},
   "outputs": [],
   "source": [
    "_=outliers(df,'Healers',2)"
   ]
  },
  {
   "cell_type": "code",
   "execution_count": null,
   "id": "87733147",
   "metadata": {},
   "outputs": [],
   "source": [
    "df[['Country', 'Healers']].sort_values(by='Healers', ascending=False).head(5)"
   ]
  },
  {
   "cell_type": "code",
   "execution_count": null,
   "id": "870943d5",
   "metadata": {},
   "outputs": [],
   "source": [
    "df[['Country', 'Healers']].sort_values(by='Healers', ascending=False).tail(5)"
   ]
  },
  {
   "cell_type": "code",
   "execution_count": null,
   "id": "a2808c66",
   "metadata": {},
   "outputs": [],
   "source": [
    "fig = px.choropleth(df, locations=\"A3\",\n",
    "                    color=\"Healers\", \n",
    "                    hover_data=[\"Country\",\"Mort_per_1000\", \"Life_exp\"],\n",
    "                    title=\"Trust to Healers in the World\",\n",
    "                    color_continuous_scale=px.colors.diverging.Spectral)\n",
    "fig.show()"
   ]
  },
  {
   "cell_type": "code",
   "execution_count": null,
   "id": "99a04d96",
   "metadata": {},
   "outputs": [],
   "source": [
    "corr_hypothesis(df[df['Income_rating']!='L'], 'Healers', 'Doctors')"
   ]
  },
  {
   "cell_type": "code",
   "execution_count": null,
   "id": "a5eb0d94",
   "metadata": {},
   "outputs": [],
   "source": [
    "corr_hypothesis(df[df['Income_rating']=='L'], 'Healers', 'Doctors')"
   ]
  },
  {
   "cell_type": "markdown",
   "id": "54ef88e9",
   "metadata": {},
   "source": [
    "### Summary:\n",
    "   - Trust to healthcare among all countries positively correlated with Life expectancy and negatively correlated with Mortality rate. \n",
    "   - Among 5 countries with lowest trust to healthcare, 4 are Low income country group and 1 - Gabon classified as Upper-Middle income group.\n",
    "   - Trust in traditional medicine have positive relation with trust in healthcare system amond countries that doesn't belong to Low income group.\n",
    "   - Most strong trust in traditional medicine is in Sri Lanka."
   ]
  },
  {
   "cell_type": "markdown",
   "id": "10e69e62",
   "metadata": {},
   "source": [
    "## Trust to the Science and country socioeconomical parameters"
   ]
  },
  {
   "cell_type": "code",
   "execution_count": null,
   "id": "f92a2e95",
   "metadata": {},
   "outputs": [],
   "source": [
    "pd.DataFrame(df['Scientists']).describe().T"
   ]
  },
  {
   "cell_type": "code",
   "execution_count": null,
   "id": "09fc74b1",
   "metadata": {
    "scrolled": true
   },
   "outputs": [],
   "source": [
    "df[['Country', 'Scientists', 'Income_rating']].sort_values(by='Scientists', ascending=False).head(5)"
   ]
  },
  {
   "cell_type": "code",
   "execution_count": null,
   "id": "77491ce6",
   "metadata": {
    "scrolled": true
   },
   "outputs": [],
   "source": [
    "df[['Country', 'Scientists', 'Income_rating']].sort_values(by='Scientists', ascending=False).tail(5)"
   ]
  },
  {
   "cell_type": "code",
   "execution_count": null,
   "id": "ac80e088",
   "metadata": {
    "scrolled": false
   },
   "outputs": [],
   "source": [
    "sns.boxplot(x=\"Income_rating\", y=\"Scientists\", data=df, order=order).set(title='Comparison of trust to Science by Income level');"
   ]
  },
  {
   "cell_type": "code",
   "execution_count": null,
   "id": "dde13da3",
   "metadata": {},
   "outputs": [],
   "source": [
    "outl=outliers(df[df['Income_rating']=='H'], 'Scientists', 2)"
   ]
  },
  {
   "cell_type": "code",
   "execution_count": null,
   "id": "ed6ecae7",
   "metadata": {},
   "outputs": [],
   "source": [
    "df[df['Income_rating']=='H'][['Country', 'Scientists', 'Life_exp','Mort_per_1000']].iloc[outl]"
   ]
  },
  {
   "cell_type": "code",
   "execution_count": null,
   "id": "45543ef7",
   "metadata": {},
   "outputs": [],
   "source": [
    "outl2=outliers(df, 'Scientists', 2)"
   ]
  },
  {
   "cell_type": "code",
   "execution_count": null,
   "id": "930a4bf8",
   "metadata": {
    "scrolled": true
   },
   "outputs": [],
   "source": [
    "df[['Country', 'Scientists', 'Life_exp','Mort_per_1000']].iloc[outl2]"
   ]
  },
  {
   "cell_type": "code",
   "execution_count": null,
   "id": "aeac29ca",
   "metadata": {},
   "outputs": [],
   "source": [
    "fig = px.choropleth(df, locations=\"A3\",\n",
    "                    color=\"Scientists\", \n",
    "                    hover_data=[\"Mort_per_1000\", \"Life_exp\"],\n",
    "                    title=\"Trust to the Science in the World\",\n",
    "                    color_continuous_scale=px.colors.diverging.Spectral)\n",
    "fig.show()"
   ]
  },
  {
   "cell_type": "code",
   "execution_count": null,
   "id": "5cc32499",
   "metadata": {
    "scrolled": false
   },
   "outputs": [],
   "source": [
    "fig = px.choropleth(df, locations=\"A3\",\n",
    "                    color=\"Research_%_GDP\", \n",
    "                    hover_data=[\"Scientists\"],\n",
    "                    title=\"% of GDP allocated to scientific research in the World\",\n",
    "                    color_continuous_scale=px.colors.diverging.Spectral)\n",
    "fig.show()"
   ]
  },
  {
   "cell_type": "code",
   "execution_count": null,
   "id": "3c3dec1d",
   "metadata": {},
   "outputs": [],
   "source": [
    "df[['Country', 'Scientists', 'Research_%_GDP', 'Income_rating']].sort_values(by='Research_%_GDP', ascending=False).head(10)"
   ]
  },
  {
   "cell_type": "code",
   "execution_count": null,
   "id": "fd351476",
   "metadata": {},
   "outputs": [],
   "source": [
    "sns.lmplot(data=df, x='Scientists', y='Life_exp', hue='Income_rating', hue_order=order, height=6, aspect=1.5).set(title='Trust to the Scientific research vs. Life Expectancy by levels by Income level')\n",
    "annotate(df, 'Scientists', 'Life_exp');"
   ]
  },
  {
   "cell_type": "code",
   "execution_count": null,
   "id": "2118ce9a",
   "metadata": {},
   "outputs": [],
   "source": [
    "corr_hypothesis(df, 'Scientists', 'Life_exp')"
   ]
  },
  {
   "cell_type": "code",
   "execution_count": null,
   "id": "2d500a86",
   "metadata": {},
   "outputs": [],
   "source": [
    "sns.lmplot(data=df, x='Scientists', y='Research_%_GDP', hue='Income_rating', hue_order=order, height=6, aspect=1.5).set(title='Trust to the Science vs. % of GDP spent on research by levels by Income level')\n",
    "annotate(df, 'Scientists', 'Research_%_GDP');"
   ]
  },
  {
   "cell_type": "code",
   "execution_count": null,
   "id": "04c89a63",
   "metadata": {},
   "outputs": [],
   "source": [
    "corr_hypothesis(df, 'Scientists', 'Research_%_GDP')"
   ]
  },
  {
   "cell_type": "code",
   "execution_count": null,
   "id": "7856bef0",
   "metadata": {},
   "outputs": [],
   "source": [
    "sns.lmplot(data=df, x='Scientists', y='Research_per_mil', hue='Income_rating', hue_order=order, height=6, aspect=1.5).set(title='Trust to the Science vs. number of Researchers by levels by Income level')\n",
    "annotate(df, 'Scientists', 'Research_per_mil');"
   ]
  },
  {
   "cell_type": "code",
   "execution_count": null,
   "id": "51ebfaf9",
   "metadata": {},
   "outputs": [],
   "source": [
    "corr_hypothesis(df, 'Scientists', 'Research_per_mil')"
   ]
  },
  {
   "cell_type": "code",
   "execution_count": null,
   "id": "011323d1",
   "metadata": {},
   "outputs": [],
   "source": [
    "sns.lmplot(data=df, y='Doctors', x='Scientists', height=6, aspect=1.5).set(title='Trust to the Science vs. trust to the Healthcare')\n",
    "annotate(df, 'Scientists', 'Doctors');"
   ]
  },
  {
   "cell_type": "code",
   "execution_count": null,
   "id": "c37153b5",
   "metadata": {},
   "outputs": [],
   "source": [
    "corr_hypothesis(df, 'Scientists','Doctors')"
   ]
  },
  {
   "cell_type": "code",
   "execution_count": null,
   "id": "5f980443",
   "metadata": {},
   "outputs": [],
   "source": [
    "sns.lmplot(data=df, y='Govt', x='Scientists', height=6, aspect=1.5).set(title='Trust to the Science vs. trust to the Goverment')\n",
    "annotate(df, 'Scientists', 'Govt');"
   ]
  },
  {
   "cell_type": "code",
   "execution_count": null,
   "id": "98e25aa4",
   "metadata": {},
   "outputs": [],
   "source": [
    "corr_hypothesis(df, 'Scientists','Govt')"
   ]
  },
  {
   "cell_type": "markdown",
   "id": "ecad2ee5",
   "metadata": {},
   "source": [
    "## Summary:\n",
    "   - Average level of trust to the Science around all countries is 66%\n",
    "   - The most trusting country is Spain with 94%\n",
    "   - High income countries tent to trust in the Science more than other groups.\n",
    "   - In general High income countries tend to spend higher % of their GDP for research and have more scientists per million of population.\n",
    "   - There is strong positive relation between trust to the Science and trust to the Healthcare.\n",
    "   - Among top 10 countries by % of GDP spent on scientific research, only Taiwan shows trust level of 62% that is less than average for all countries"
   ]
  },
  {
   "cell_type": "markdown",
   "id": "b1e01e78",
   "metadata": {},
   "source": [
    "## Trust in the media, income level and trust in goverment"
   ]
  },
  {
   "cell_type": "markdown",
   "id": "82e6e676",
   "metadata": {},
   "source": [
    "Let's check how trust in the media disctributed among countries and whether there is relation between it and other parameters for specific country"
   ]
  },
  {
   "cell_type": "code",
   "execution_count": null,
   "id": "6783e998",
   "metadata": {
    "scrolled": true
   },
   "outputs": [],
   "source": [
    "df[['Country', 'Journalists', 'Income_rating']].sort_values(by='Journalists', ascending=False).head(5)"
   ]
  },
  {
   "cell_type": "code",
   "execution_count": null,
   "id": "eab578c4",
   "metadata": {
    "scrolled": true
   },
   "outputs": [],
   "source": [
    "df[['Country', 'Journalists', 'Income_rating']].sort_values(by='Journalists', ascending=False).tail(5)"
   ]
  },
  {
   "cell_type": "code",
   "execution_count": null,
   "id": "23caf8db",
   "metadata": {},
   "outputs": [],
   "source": [
    "df['Journalists'].describe()"
   ]
  },
  {
   "cell_type": "code",
   "execution_count": null,
   "id": "0747ecf2",
   "metadata": {
    "scrolled": true
   },
   "outputs": [],
   "source": [
    "sns.boxplot(x=\"Income_rating\", y=\"Journalists\", data=df, order=order).set(title='Comparison of trust to the Media by Income level');"
   ]
  },
  {
   "cell_type": "code",
   "execution_count": null,
   "id": "ac099b33",
   "metadata": {},
   "outputs": [],
   "source": [
    "outl=outliers(df[df['Income_rating']=='H'], 'Journalists', 2)"
   ]
  },
  {
   "cell_type": "code",
   "execution_count": null,
   "id": "ad81b65f",
   "metadata": {},
   "outputs": [],
   "source": [
    "outl=outliers(df[df['Income_rating']=='UM'], 'Journalists', 2)"
   ]
  },
  {
   "cell_type": "code",
   "execution_count": null,
   "id": "8cb38dc3",
   "metadata": {},
   "outputs": [],
   "source": [
    "fig = px.choropleth(df, locations=\"A3\",\n",
    "                    color=\"Journalists\", \n",
    "                    hover_data=[\"Govt\"],\n",
    "                    title=\"Trust to the Media in the World\",\n",
    "                    color_continuous_scale=px.colors.diverging.Spectral)\n",
    "fig.show()"
   ]
  },
  {
   "cell_type": "code",
   "execution_count": null,
   "id": "0cac04b6",
   "metadata": {},
   "outputs": [],
   "source": [
    "sns.lmplot(data=df, x='Journalists', y='Govt', height=6, aspect=1.5).set(title='Trust to the Media vs. trust to the Goverment')\n",
    "annotate(df, 'Journalists', 'Govt');"
   ]
  },
  {
   "cell_type": "code",
   "execution_count": null,
   "id": "0de35730",
   "metadata": {},
   "outputs": [],
   "source": [
    "corr_hypothesis(df, 'Govt', 'Journalists')"
   ]
  },
  {
   "cell_type": "markdown",
   "id": "259ed5c2",
   "metadata": {},
   "source": [
    "### Summary:\n",
    "   - Average level of trust to the Media around all countries is 55%\n",
    "   - The most strong trust to the Media among High income countries is in Finland (81%), the weakest in Greece (12%) and Taiwan (24%)\n",
    "   - Among other income level groups of countries the strongest trust is in Uzbekistan (89%), Tanzania (86%) and Rwanda\t(81%)\n",
    "   - There is strong relation between trust to the Media and Trust to the government"
   ]
  },
  {
   "cell_type": "markdown",
   "id": "cbada114",
   "metadata": {},
   "source": [
    "## Trust to neighbors and NGO workers"
   ]
  },
  {
   "cell_type": "markdown",
   "id": "7528ad13",
   "metadata": {},
   "source": [
    "How trust to neighbors and NGO workers is distributed by countries and wheter it has relation to other factors as trust to goverment, trust to healthcare, economic factors."
   ]
  },
  {
   "cell_type": "code",
   "execution_count": null,
   "id": "0746d0d4",
   "metadata": {},
   "outputs": [],
   "source": [
    "df[['Neighbors', 'NGO']].describe().T"
   ]
  },
  {
   "cell_type": "code",
   "execution_count": null,
   "id": "481d3faf",
   "metadata": {},
   "outputs": [],
   "source": [
    "df[['Country', 'Neighbors', 'Income_rating']].sort_values(by='Neighbors', ascending=False).head(5)"
   ]
  },
  {
   "cell_type": "code",
   "execution_count": null,
   "id": "92d6e05f",
   "metadata": {},
   "outputs": [],
   "source": [
    "df[['Country', 'Neighbors', 'Income_rating']].sort_values(by='Neighbors', ascending=True).head(5)"
   ]
  },
  {
   "cell_type": "code",
   "execution_count": null,
   "id": "dda01209",
   "metadata": {},
   "outputs": [],
   "source": [
    "df[['Country', 'NGO', 'Income_rating']].sort_values(by='NGO', ascending=False).head(5)"
   ]
  },
  {
   "cell_type": "code",
   "execution_count": null,
   "id": "04e02712",
   "metadata": {},
   "outputs": [],
   "source": [
    "df[['Country', 'NGO', 'Income_rating']].sort_values(by='NGO', ascending=False).tail(5)"
   ]
  },
  {
   "cell_type": "code",
   "execution_count": null,
   "id": "ed37ea60",
   "metadata": {},
   "outputs": [],
   "source": [
    "sns.lmplot(data=df, x='Neighbors', y='NGO', height=6, aspect=1.5).set(title='Trust to the Neighbors vs. trust to the NGO by levels by Income level')\n",
    "annotate(df,'Neighbors','NGO');"
   ]
  },
  {
   "cell_type": "code",
   "execution_count": null,
   "id": "ac5f71b9",
   "metadata": {},
   "outputs": [],
   "source": [
    "corr_hypothesis(df, 'Neighbors', 'NGO')"
   ]
  },
  {
   "cell_type": "code",
   "execution_count": null,
   "id": "c63f18b1",
   "metadata": {},
   "outputs": [],
   "source": [
    "sns.boxplot(x=\"Income_rating\", y=\"Neighbors\", data=df, order=order).set(title='Comparison of the trust to the Neighbors by Income level');"
   ]
  },
  {
   "cell_type": "code",
   "execution_count": null,
   "id": "934cffe2",
   "metadata": {},
   "outputs": [],
   "source": [
    "fig, ax = plt.subplots(figsize=(12,6))\n",
    "sns.scatterplot(data=df, x='Neighbors', y='Life_exp', hue='Income_rating', hue_order=order, ax=ax).set(title='Trust to the Neighbors vs. Life Expectancy')\n",
    "annotate(df,'Neighbors','Life_exp');"
   ]
  },
  {
   "cell_type": "code",
   "execution_count": null,
   "id": "2b2d5bfa",
   "metadata": {
    "scrolled": false
   },
   "outputs": [],
   "source": [
    "corr_hypothesis(df, 'Neighbors', 'Life_exp')"
   ]
  },
  {
   "cell_type": "code",
   "execution_count": null,
   "id": "5169a499",
   "metadata": {
    "scrolled": false
   },
   "outputs": [],
   "source": [
    "fig, ax = plt.subplots(figsize=(12,6))\n",
    "sns.scatterplot(data=df, x='Neighbors', y='GINI', hue='Income_rating', hue_order=order, ax=ax).set(title='Trust to the Neighbors vs. GINI coef.')\n",
    "annotate(df, 'Neighbors', 'GINI');"
   ]
  },
  {
   "cell_type": "code",
   "execution_count": null,
   "id": "9a1fab80",
   "metadata": {
    "scrolled": true
   },
   "outputs": [],
   "source": [
    "corr_hypothesis(df, 'Neighbors', 'GINI')"
   ]
  },
  {
   "cell_type": "code",
   "execution_count": null,
   "id": "e1020164",
   "metadata": {},
   "outputs": [],
   "source": [
    "fig = px.choropleth(df, locations=\"A3\",\n",
    "                    color=\"Neighbors\", \n",
    "                    hover_data=[\"Govt\", \"NGO\", \"GINI\"],\n",
    "                    title=\"Trust to Neighbors in the World\",\n",
    "                    color_continuous_scale=px.colors.diverging.Spectral)\n",
    "fig.show()"
   ]
  },
  {
   "cell_type": "code",
   "execution_count": null,
   "id": "432df215",
   "metadata": {},
   "outputs": [],
   "source": [
    "sns.boxplot(x=\"Income_rating\", y=\"NGO\", data=df, order=order).set(title='Comparison of the trust to the NGO by Income level');"
   ]
  },
  {
   "cell_type": "code",
   "execution_count": null,
   "id": "f6e5f36c",
   "metadata": {},
   "outputs": [],
   "source": [
    "sns.lmplot(data=df, x='NGO', y='Govt', hue='Income_rating', hue_order=order, height=6, aspect=1.5).set(title='Trust to NGO workers vs. Trust to Goverment by Income Level')\n",
    "annotate(df,'NGO', 'Govt');"
   ]
  },
  {
   "cell_type": "markdown",
   "id": "128a292e",
   "metadata": {},
   "source": [
    "### Summary:\n",
    "   - Average level of trust to the Neighbors around all countries is 74%\n",
    "   - Same time average level of trust to the NGO workers around all countries is 56%\n",
    "   - The most strong trust to Neighbors is in Uzbekistan (96%), Iceland (95%) and Afganistan (94%)\n",
    "   - Top 5 countries with hieghest trust to NGO workers belong to High income group. In general High income countries have higher level of life expecancy and so they tend to trust the NGO workers more.\n",
    "   - There is strong positive relation between trust to Neighbors and trust to the NGO workers with correlation coefficient of 0.67\n",
    "   - The more inequality in country the less people tend to trust their neighbors\n"
   ]
  },
  {
   "cell_type": "markdown",
   "id": "32b9796f",
   "metadata": {},
   "source": [
    "# Analysis Summary"
   ]
  },
  {
   "cell_type": "markdown",
   "id": "1c22e5d7",
   "metadata": {},
   "source": [
    "The research aimed to understand the factors that influence trust in different institutions and individuals across countries, and how this trust relates to economic and healthcare outcomes. The data collected included trust levels in government, scientists, doctors, journalists, neighbors, NGO workers by country and GDP, life expectancy, mortality rate and income group (high, upper-middle, lower-middle andlow).\n",
    "\n",
    "   - Trust in government varies widely across countries, with the highest levels of trust observed in high-income countries.\n",
    "   - Trust in healthcare is positively correlated with life expectancy and negatively correlated with mortality rate.\n",
    "   - Trust in traditional medicine has a positive relationship with trust in healthcare among countries that don't belong to the low-income group.\n",
    "   - Trust in science depends on the welfare of the country and it's ability to allocate higher level of resources for scientific R&D.\n",
    "   - Trust in Media and NGO is quite low across the Globe, with an average of 55% and 56% level correspondingly.\n",
    "   - Trust among people is 74% on average and highly correlated to GINI coeffitient that measures inequality. So the more inequality in the country the less people tend to trust each other."
   ]
  },
  {
   "cell_type": "code",
   "execution_count": null,
   "id": "920e01bc",
   "metadata": {},
   "outputs": [],
   "source": []
  }
 ],
 "metadata": {
  "kernelspec": {
   "display_name": "Python 3 (ipykernel)",
   "language": "python",
   "name": "python3"
  },
  "language_info": {
   "codemirror_mode": {
    "name": "ipython",
    "version": 3
   },
   "file_extension": ".py",
   "mimetype": "text/x-python",
   "name": "python",
   "nbconvert_exporter": "python",
   "pygments_lexer": "ipython3",
   "version": "3.9.12"
  }
 },
 "nbformat": 4,
 "nbformat_minor": 5
}
